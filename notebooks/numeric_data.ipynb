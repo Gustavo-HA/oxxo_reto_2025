{
 "cells": [
  {
   "cell_type": "markdown",
   "id": "0329d682",
   "metadata": {},
   "source": [
    "# **Variables Categoricas** --> **Numericas**"
   ]
  },
  {
   "cell_type": "markdown",
   "id": "822d536f",
   "metadata": {},
   "source": [
    "## Lectura"
   ]
  },
  {
   "cell_type": "code",
   "execution_count": null,
   "id": "c6c9e1b6",
   "metadata": {},
   "outputs": [],
   "source": [
    "# Librerias\n",
    "import pandas as pd"
   ]
  },
  {
   "cell_type": "code",
   "execution_count": 22,
   "id": "18c58c7f",
   "metadata": {},
   "outputs": [
    {
     "data": {
      "application/vnd.microsoft.datawrangler.viewer.v0+json": {
       "columns": [
        {
         "name": "index",
         "rawType": "int64",
         "type": "integer"
        },
        {
         "name": "TIENDA_ID",
         "rawType": "int64",
         "type": "integer"
        },
        {
         "name": "PLAZA_CVE",
         "rawType": "int64",
         "type": "integer"
        },
        {
         "name": "NIVELSOCIOECONOMICO_DES",
         "rawType": "object",
         "type": "string"
        },
        {
         "name": "ENTORNO_DES",
         "rawType": "object",
         "type": "string"
        },
        {
         "name": "MTS2VENTAS_NUM",
         "rawType": "float64",
         "type": "float"
        },
        {
         "name": "PUERTASREFRIG_NUM",
         "rawType": "int64",
         "type": "integer"
        },
        {
         "name": "CAJONESESTACIONAMIENTO_NUM",
         "rawType": "int64",
         "type": "integer"
        },
        {
         "name": "LATITUD_NUM",
         "rawType": "float64",
         "type": "float"
        },
        {
         "name": "LONGITUD_NUM",
         "rawType": "float64",
         "type": "float"
        },
        {
         "name": "SEGMENTO_MAESTRO_DESC",
         "rawType": "object",
         "type": "string"
        },
        {
         "name": "LID_UBICACION_TIENDA",
         "rawType": "object",
         "type": "string"
        },
        {
         "name": "DATASET",
         "rawType": "object",
         "type": "string"
        }
       ],
       "ref": "6f6c6c19-18d1-4855-96be-383327b9602e",
       "rows": [
        [
         "0",
         "126",
         "1",
         "BC",
         "Hogar",
         "127.42",
         "13",
         "7",
         "25.69107",
         "-100.21261",
         "Hogar Reunión",
         "UT_DENSIDAD",
         "TRAIN"
        ],
        [
         "1",
         "681",
         "1",
         "C",
         "Hogar",
         "128.13",
         "13",
         "0",
         "25.73571",
         "-100.18086",
         "Hogar Reunión",
         "UT_DENSIDAD",
         "TRAIN"
        ],
        [
         "2",
         "117",
         "1",
         "C",
         "Base",
         "87.62",
         "11",
         "11",
         "25.71883",
         "-100.19133",
         "Hogar Reunión",
         "UT_DENSIDAD",
         "TRAIN"
        ],
        [
         "3",
         "682",
         "1",
         "C",
         "Hogar",
         "90.7",
         "13",
         "0",
         "25.66952",
         "-100.20744",
         "Hogar Reunión",
         "UT_DENSIDAD",
         "TRAIN"
        ],
        [
         "4",
         "275",
         "1",
         "C",
         "Hogar",
         "95.3",
         "13",
         "6",
         "25.73766",
         "-100.16116",
         "Hogar Reunión",
         "UT_DENSIDAD",
         "TRAIN"
        ]
       ],
       "shape": {
        "columns": 12,
        "rows": 5
       }
      },
      "text/html": [
       "<div>\n",
       "<style scoped>\n",
       "    .dataframe tbody tr th:only-of-type {\n",
       "        vertical-align: middle;\n",
       "    }\n",
       "\n",
       "    .dataframe tbody tr th {\n",
       "        vertical-align: top;\n",
       "    }\n",
       "\n",
       "    .dataframe thead th {\n",
       "        text-align: right;\n",
       "    }\n",
       "</style>\n",
       "<table border=\"1\" class=\"dataframe\">\n",
       "  <thead>\n",
       "    <tr style=\"text-align: right;\">\n",
       "      <th></th>\n",
       "      <th>TIENDA_ID</th>\n",
       "      <th>PLAZA_CVE</th>\n",
       "      <th>NIVELSOCIOECONOMICO_DES</th>\n",
       "      <th>ENTORNO_DES</th>\n",
       "      <th>MTS2VENTAS_NUM</th>\n",
       "      <th>PUERTASREFRIG_NUM</th>\n",
       "      <th>CAJONESESTACIONAMIENTO_NUM</th>\n",
       "      <th>LATITUD_NUM</th>\n",
       "      <th>LONGITUD_NUM</th>\n",
       "      <th>SEGMENTO_MAESTRO_DESC</th>\n",
       "      <th>LID_UBICACION_TIENDA</th>\n",
       "      <th>DATASET</th>\n",
       "    </tr>\n",
       "  </thead>\n",
       "  <tbody>\n",
       "    <tr>\n",
       "      <th>0</th>\n",
       "      <td>126</td>\n",
       "      <td>1</td>\n",
       "      <td>BC</td>\n",
       "      <td>Hogar</td>\n",
       "      <td>127.42</td>\n",
       "      <td>13</td>\n",
       "      <td>7</td>\n",
       "      <td>25.69107</td>\n",
       "      <td>-100.21261</td>\n",
       "      <td>Hogar Reunión</td>\n",
       "      <td>UT_DENSIDAD</td>\n",
       "      <td>TRAIN</td>\n",
       "    </tr>\n",
       "    <tr>\n",
       "      <th>1</th>\n",
       "      <td>681</td>\n",
       "      <td>1</td>\n",
       "      <td>C</td>\n",
       "      <td>Hogar</td>\n",
       "      <td>128.13</td>\n",
       "      <td>13</td>\n",
       "      <td>0</td>\n",
       "      <td>25.73571</td>\n",
       "      <td>-100.18086</td>\n",
       "      <td>Hogar Reunión</td>\n",
       "      <td>UT_DENSIDAD</td>\n",
       "      <td>TRAIN</td>\n",
       "    </tr>\n",
       "    <tr>\n",
       "      <th>2</th>\n",
       "      <td>117</td>\n",
       "      <td>1</td>\n",
       "      <td>C</td>\n",
       "      <td>Base</td>\n",
       "      <td>87.62</td>\n",
       "      <td>11</td>\n",
       "      <td>11</td>\n",
       "      <td>25.71883</td>\n",
       "      <td>-100.19133</td>\n",
       "      <td>Hogar Reunión</td>\n",
       "      <td>UT_DENSIDAD</td>\n",
       "      <td>TRAIN</td>\n",
       "    </tr>\n",
       "    <tr>\n",
       "      <th>3</th>\n",
       "      <td>682</td>\n",
       "      <td>1</td>\n",
       "      <td>C</td>\n",
       "      <td>Hogar</td>\n",
       "      <td>90.70</td>\n",
       "      <td>13</td>\n",
       "      <td>0</td>\n",
       "      <td>25.66952</td>\n",
       "      <td>-100.20744</td>\n",
       "      <td>Hogar Reunión</td>\n",
       "      <td>UT_DENSIDAD</td>\n",
       "      <td>TRAIN</td>\n",
       "    </tr>\n",
       "    <tr>\n",
       "      <th>4</th>\n",
       "      <td>275</td>\n",
       "      <td>1</td>\n",
       "      <td>C</td>\n",
       "      <td>Hogar</td>\n",
       "      <td>95.30</td>\n",
       "      <td>13</td>\n",
       "      <td>6</td>\n",
       "      <td>25.73766</td>\n",
       "      <td>-100.16116</td>\n",
       "      <td>Hogar Reunión</td>\n",
       "      <td>UT_DENSIDAD</td>\n",
       "      <td>TRAIN</td>\n",
       "    </tr>\n",
       "  </tbody>\n",
       "</table>\n",
       "</div>"
      ],
      "text/plain": [
       "   TIENDA_ID  PLAZA_CVE NIVELSOCIOECONOMICO_DES ENTORNO_DES  MTS2VENTAS_NUM  \\\n",
       "0        126          1                      BC       Hogar          127.42   \n",
       "1        681          1                       C       Hogar          128.13   \n",
       "2        117          1                       C        Base           87.62   \n",
       "3        682          1                       C       Hogar           90.70   \n",
       "4        275          1                       C       Hogar           95.30   \n",
       "\n",
       "   PUERTASREFRIG_NUM  CAJONESESTACIONAMIENTO_NUM  LATITUD_NUM  LONGITUD_NUM  \\\n",
       "0                 13                           7     25.69107    -100.21261   \n",
       "1                 13                           0     25.73571    -100.18086   \n",
       "2                 11                          11     25.71883    -100.19133   \n",
       "3                 13                           0     25.66952    -100.20744   \n",
       "4                 13                           6     25.73766    -100.16116   \n",
       "\n",
       "  SEGMENTO_MAESTRO_DESC LID_UBICACION_TIENDA DATASET  \n",
       "0         Hogar Reunión          UT_DENSIDAD   TRAIN  \n",
       "1         Hogar Reunión          UT_DENSIDAD   TRAIN  \n",
       "2         Hogar Reunión          UT_DENSIDAD   TRAIN  \n",
       "3         Hogar Reunión          UT_DENSIDAD   TRAIN  \n",
       "4         Hogar Reunión          UT_DENSIDAD   TRAIN  "
      ]
     },
     "execution_count": 22,
     "metadata": {},
     "output_type": "execute_result"
    }
   ],
   "source": [
    "# Lectura de datos\n",
    "ruta = \"../data/train.csv\"\n",
    "df_train = pd.read_csv(ruta)\n",
    "df_train.head()"
   ]
  },
  {
   "cell_type": "code",
   "execution_count": 23,
   "id": "b57e6ca0",
   "metadata": {},
   "outputs": [
    {
     "data": {
      "application/vnd.microsoft.datawrangler.viewer.v0+json": {
       "columns": [
        {
         "name": "index",
         "rawType": "int64",
         "type": "integer"
        },
        {
         "name": "PLAZA_CVE",
         "rawType": "int64",
         "type": "integer"
        },
        {
         "name": "NIVELSOCIOECONOMICO_DES",
         "rawType": "object",
         "type": "string"
        },
        {
         "name": "ENTORNO_DES",
         "rawType": "object",
         "type": "string"
        },
        {
         "name": "MTS2VENTAS_NUM",
         "rawType": "float64",
         "type": "float"
        },
        {
         "name": "PUERTASREFRIG_NUM",
         "rawType": "int64",
         "type": "integer"
        },
        {
         "name": "CAJONESESTACIONAMIENTO_NUM",
         "rawType": "int64",
         "type": "integer"
        },
        {
         "name": "LATITUD_NUM",
         "rawType": "float64",
         "type": "float"
        },
        {
         "name": "LONGITUD_NUM",
         "rawType": "float64",
         "type": "float"
        },
        {
         "name": "SEGMENTO_MAESTRO_DESC",
         "rawType": "object",
         "type": "string"
        },
        {
         "name": "LID_UBICACION_TIENDA",
         "rawType": "object",
         "type": "string"
        }
       ],
       "ref": "f7d86baa-15a2-498d-a563-e7ce01c9d579",
       "rows": [
        [
         "0",
         "1",
         "BC",
         "Hogar",
         "127.42",
         "13",
         "7",
         "25.69107",
         "-100.21261",
         "Hogar Reunión",
         "UT_DENSIDAD"
        ],
        [
         "1",
         "1",
         "C",
         "Hogar",
         "128.13",
         "13",
         "0",
         "25.73571",
         "-100.18086",
         "Hogar Reunión",
         "UT_DENSIDAD"
        ],
        [
         "2",
         "1",
         "C",
         "Base",
         "87.62",
         "11",
         "11",
         "25.71883",
         "-100.19133",
         "Hogar Reunión",
         "UT_DENSIDAD"
        ],
        [
         "3",
         "1",
         "C",
         "Hogar",
         "90.7",
         "13",
         "0",
         "25.66952",
         "-100.20744",
         "Hogar Reunión",
         "UT_DENSIDAD"
        ],
        [
         "4",
         "1",
         "C",
         "Hogar",
         "95.3",
         "13",
         "6",
         "25.73766",
         "-100.16116",
         "Hogar Reunión",
         "UT_DENSIDAD"
        ]
       ],
       "shape": {
        "columns": 10,
        "rows": 5
       }
      },
      "text/html": [
       "<div>\n",
       "<style scoped>\n",
       "    .dataframe tbody tr th:only-of-type {\n",
       "        vertical-align: middle;\n",
       "    }\n",
       "\n",
       "    .dataframe tbody tr th {\n",
       "        vertical-align: top;\n",
       "    }\n",
       "\n",
       "    .dataframe thead th {\n",
       "        text-align: right;\n",
       "    }\n",
       "</style>\n",
       "<table border=\"1\" class=\"dataframe\">\n",
       "  <thead>\n",
       "    <tr style=\"text-align: right;\">\n",
       "      <th></th>\n",
       "      <th>PLAZA_CVE</th>\n",
       "      <th>NIVELSOCIOECONOMICO_DES</th>\n",
       "      <th>ENTORNO_DES</th>\n",
       "      <th>MTS2VENTAS_NUM</th>\n",
       "      <th>PUERTASREFRIG_NUM</th>\n",
       "      <th>CAJONESESTACIONAMIENTO_NUM</th>\n",
       "      <th>LATITUD_NUM</th>\n",
       "      <th>LONGITUD_NUM</th>\n",
       "      <th>SEGMENTO_MAESTRO_DESC</th>\n",
       "      <th>LID_UBICACION_TIENDA</th>\n",
       "    </tr>\n",
       "  </thead>\n",
       "  <tbody>\n",
       "    <tr>\n",
       "      <th>0</th>\n",
       "      <td>1</td>\n",
       "      <td>BC</td>\n",
       "      <td>Hogar</td>\n",
       "      <td>127.42</td>\n",
       "      <td>13</td>\n",
       "      <td>7</td>\n",
       "      <td>25.69107</td>\n",
       "      <td>-100.21261</td>\n",
       "      <td>Hogar Reunión</td>\n",
       "      <td>UT_DENSIDAD</td>\n",
       "    </tr>\n",
       "    <tr>\n",
       "      <th>1</th>\n",
       "      <td>1</td>\n",
       "      <td>C</td>\n",
       "      <td>Hogar</td>\n",
       "      <td>128.13</td>\n",
       "      <td>13</td>\n",
       "      <td>0</td>\n",
       "      <td>25.73571</td>\n",
       "      <td>-100.18086</td>\n",
       "      <td>Hogar Reunión</td>\n",
       "      <td>UT_DENSIDAD</td>\n",
       "    </tr>\n",
       "    <tr>\n",
       "      <th>2</th>\n",
       "      <td>1</td>\n",
       "      <td>C</td>\n",
       "      <td>Base</td>\n",
       "      <td>87.62</td>\n",
       "      <td>11</td>\n",
       "      <td>11</td>\n",
       "      <td>25.71883</td>\n",
       "      <td>-100.19133</td>\n",
       "      <td>Hogar Reunión</td>\n",
       "      <td>UT_DENSIDAD</td>\n",
       "    </tr>\n",
       "    <tr>\n",
       "      <th>3</th>\n",
       "      <td>1</td>\n",
       "      <td>C</td>\n",
       "      <td>Hogar</td>\n",
       "      <td>90.70</td>\n",
       "      <td>13</td>\n",
       "      <td>0</td>\n",
       "      <td>25.66952</td>\n",
       "      <td>-100.20744</td>\n",
       "      <td>Hogar Reunión</td>\n",
       "      <td>UT_DENSIDAD</td>\n",
       "    </tr>\n",
       "    <tr>\n",
       "      <th>4</th>\n",
       "      <td>1</td>\n",
       "      <td>C</td>\n",
       "      <td>Hogar</td>\n",
       "      <td>95.30</td>\n",
       "      <td>13</td>\n",
       "      <td>6</td>\n",
       "      <td>25.73766</td>\n",
       "      <td>-100.16116</td>\n",
       "      <td>Hogar Reunión</td>\n",
       "      <td>UT_DENSIDAD</td>\n",
       "    </tr>\n",
       "  </tbody>\n",
       "</table>\n",
       "</div>"
      ],
      "text/plain": [
       "   PLAZA_CVE NIVELSOCIOECONOMICO_DES ENTORNO_DES  MTS2VENTAS_NUM  \\\n",
       "0          1                      BC       Hogar          127.42   \n",
       "1          1                       C       Hogar          128.13   \n",
       "2          1                       C        Base           87.62   \n",
       "3          1                       C       Hogar           90.70   \n",
       "4          1                       C       Hogar           95.30   \n",
       "\n",
       "   PUERTASREFRIG_NUM  CAJONESESTACIONAMIENTO_NUM  LATITUD_NUM  LONGITUD_NUM  \\\n",
       "0                 13                           7     25.69107    -100.21261   \n",
       "1                 13                           0     25.73571    -100.18086   \n",
       "2                 11                          11     25.71883    -100.19133   \n",
       "3                 13                           0     25.66952    -100.20744   \n",
       "4                 13                           6     25.73766    -100.16116   \n",
       "\n",
       "  SEGMENTO_MAESTRO_DESC LID_UBICACION_TIENDA  \n",
       "0         Hogar Reunión          UT_DENSIDAD  \n",
       "1         Hogar Reunión          UT_DENSIDAD  \n",
       "2         Hogar Reunión          UT_DENSIDAD  \n",
       "3         Hogar Reunión          UT_DENSIDAD  \n",
       "4         Hogar Reunión          UT_DENSIDAD  "
      ]
     },
     "execution_count": 23,
     "metadata": {},
     "output_type": "execute_result"
    }
   ],
   "source": [
    "# Eliminamos columnas innecesarias\n",
    "df_train_2 = df_train.drop(columns=['TIENDA_ID', 'DATASET'])\n",
    "df_train_2.head()"
   ]
  },
  {
   "cell_type": "markdown",
   "id": "53aac35d",
   "metadata": {},
   "source": [
    "## NIVELSOCIOECONOMICO_DES"
   ]
  },
  {
   "cell_type": "code",
   "execution_count": 24,
   "id": "bf6bd9f9",
   "metadata": {},
   "outputs": [
    {
     "data": {
      "application/vnd.microsoft.datawrangler.viewer.v0+json": {
       "columns": [
        {
         "name": "index",
         "rawType": "int64",
         "type": "integer"
        },
        {
         "name": "Categoria",
         "rawType": "object",
         "type": "string"
        },
        {
         "name": "Frecuencia",
         "rawType": "int64",
         "type": "integer"
        }
       ],
       "ref": "789344d5-cc3f-4bf4-999e-195510af4692",
       "rows": [
        [
         "0",
         "C",
         "670"
        ],
        [
         "1",
         "B",
         "92"
        ],
        [
         "2",
         "BC",
         "73"
        ],
        [
         "3",
         "CD",
         "61"
        ],
        [
         "4",
         "AB",
         "31"
        ],
        [
         "5",
         "D",
         "16"
        ],
        [
         "6",
         "A",
         "8"
        ]
       ],
       "shape": {
        "columns": 2,
        "rows": 7
       }
      },
      "text/html": [
       "<div>\n",
       "<style scoped>\n",
       "    .dataframe tbody tr th:only-of-type {\n",
       "        vertical-align: middle;\n",
       "    }\n",
       "\n",
       "    .dataframe tbody tr th {\n",
       "        vertical-align: top;\n",
       "    }\n",
       "\n",
       "    .dataframe thead th {\n",
       "        text-align: right;\n",
       "    }\n",
       "</style>\n",
       "<table border=\"1\" class=\"dataframe\">\n",
       "  <thead>\n",
       "    <tr style=\"text-align: right;\">\n",
       "      <th></th>\n",
       "      <th>Categoria</th>\n",
       "      <th>Frecuencia</th>\n",
       "    </tr>\n",
       "  </thead>\n",
       "  <tbody>\n",
       "    <tr>\n",
       "      <th>0</th>\n",
       "      <td>C</td>\n",
       "      <td>670</td>\n",
       "    </tr>\n",
       "    <tr>\n",
       "      <th>1</th>\n",
       "      <td>B</td>\n",
       "      <td>92</td>\n",
       "    </tr>\n",
       "    <tr>\n",
       "      <th>2</th>\n",
       "      <td>BC</td>\n",
       "      <td>73</td>\n",
       "    </tr>\n",
       "    <tr>\n",
       "      <th>3</th>\n",
       "      <td>CD</td>\n",
       "      <td>61</td>\n",
       "    </tr>\n",
       "    <tr>\n",
       "      <th>4</th>\n",
       "      <td>AB</td>\n",
       "      <td>31</td>\n",
       "    </tr>\n",
       "    <tr>\n",
       "      <th>5</th>\n",
       "      <td>D</td>\n",
       "      <td>16</td>\n",
       "    </tr>\n",
       "    <tr>\n",
       "      <th>6</th>\n",
       "      <td>A</td>\n",
       "      <td>8</td>\n",
       "    </tr>\n",
       "  </tbody>\n",
       "</table>\n",
       "</div>"
      ],
      "text/plain": [
       "  Categoria  Frecuencia\n",
       "0         C         670\n",
       "1         B          92\n",
       "2        BC          73\n",
       "3        CD          61\n",
       "4        AB          31\n",
       "5         D          16\n",
       "6         A           8"
      ]
     },
     "execution_count": 24,
     "metadata": {},
     "output_type": "execute_result"
    }
   ],
   "source": [
    "# Nivel Socioeconomico\n",
    "niveles_unicos = df_train_2['NIVELSOCIOECONOMICO_DES'].value_counts(dropna=False).reset_index()\n",
    "niveles_unicos.columns = ['Categoria', 'Frecuencia']\n",
    "niveles_unicos"
   ]
  },
  {
   "cell_type": "code",
   "execution_count": null,
   "id": "ca1665b5",
   "metadata": {},
   "outputs": [
    {
     "data": {
      "application/vnd.microsoft.datawrangler.viewer.v0+json": {
       "columns": [
        {
         "name": "index",
         "rawType": "int64",
         "type": "integer"
        },
        {
         "name": "NIVELSOCIOECONOMICO_DES",
         "rawType": "int64",
         "type": "integer"
        }
       ],
       "ref": "db97d028-3992-4101-a5fc-065eeceb3e82",
       "rows": [
        [
         "0",
         "4"
        ],
        [
         "1",
         "5"
        ],
        [
         "2",
         "5"
        ],
        [
         "3",
         "5"
        ],
        [
         "4",
         "5"
        ],
        [
         "5",
         "5"
        ],
        [
         "6",
         "5"
        ],
        [
         "7",
         "5"
        ],
        [
         "8",
         "5"
        ],
        [
         "9",
         "5"
        ]
       ],
       "shape": {
        "columns": 1,
        "rows": 10
       }
      },
      "text/html": [
       "<div>\n",
       "<style scoped>\n",
       "    .dataframe tbody tr th:only-of-type {\n",
       "        vertical-align: middle;\n",
       "    }\n",
       "\n",
       "    .dataframe tbody tr th {\n",
       "        vertical-align: top;\n",
       "    }\n",
       "\n",
       "    .dataframe thead th {\n",
       "        text-align: right;\n",
       "    }\n",
       "</style>\n",
       "<table border=\"1\" class=\"dataframe\">\n",
       "  <thead>\n",
       "    <tr style=\"text-align: right;\">\n",
       "      <th></th>\n",
       "      <th>NIVELSOCIOECONOMICO_DES</th>\n",
       "    </tr>\n",
       "  </thead>\n",
       "  <tbody>\n",
       "    <tr>\n",
       "      <th>0</th>\n",
       "      <td>4</td>\n",
       "    </tr>\n",
       "    <tr>\n",
       "      <th>1</th>\n",
       "      <td>5</td>\n",
       "    </tr>\n",
       "    <tr>\n",
       "      <th>2</th>\n",
       "      <td>5</td>\n",
       "    </tr>\n",
       "    <tr>\n",
       "      <th>3</th>\n",
       "      <td>5</td>\n",
       "    </tr>\n",
       "    <tr>\n",
       "      <th>4</th>\n",
       "      <td>5</td>\n",
       "    </tr>\n",
       "    <tr>\n",
       "      <th>5</th>\n",
       "      <td>5</td>\n",
       "    </tr>\n",
       "    <tr>\n",
       "      <th>6</th>\n",
       "      <td>5</td>\n",
       "    </tr>\n",
       "    <tr>\n",
       "      <th>7</th>\n",
       "      <td>5</td>\n",
       "    </tr>\n",
       "    <tr>\n",
       "      <th>8</th>\n",
       "      <td>5</td>\n",
       "    </tr>\n",
       "    <tr>\n",
       "      <th>9</th>\n",
       "      <td>5</td>\n",
       "    </tr>\n",
       "  </tbody>\n",
       "</table>\n",
       "</div>"
      ],
      "text/plain": [
       "   NIVELSOCIOECONOMICO_DES\n",
       "0                        4\n",
       "1                        5\n",
       "2                        5\n",
       "3                        5\n",
       "4                        5\n",
       "5                        5\n",
       "6                        5\n",
       "7                        5\n",
       "8                        5\n",
       "9                        5"
      ]
     },
     "execution_count": 25,
     "metadata": {},
     "output_type": "execute_result"
    }
   ],
   "source": [
    "# Ordinal encoding\n",
    "orden_nivel = {\n",
    "    'A': 1,\n",
    "    'AB': 2,\n",
    "    'B': 3,\n",
    "    'BC': 4,\n",
    "    'C': 5,\n",
    "    'CD': 6,\n",
    "    'D': 7\n",
    "}\n",
    "\n",
    "# Aplicamos el mapeo al dataframe\n",
    "df_train_2['NIVELSOCIOECONOMICO_DES'] = df_train_2['NIVELSOCIOECONOMICO_DES'].astype(str).map(orden_nivel)\n",
    "\n",
    "# Verificamos que la transformacion se haya aplicado correctamente\n",
    "df_train_2[['NIVELSOCIOECONOMICO_DES']].head(10)"
   ]
  },
  {
   "cell_type": "markdown",
   "id": "af21d576",
   "metadata": {},
   "source": [
    "## ENTORNO_DES"
   ]
  },
  {
   "cell_type": "code",
   "execution_count": null,
   "id": "af0b0474",
   "metadata": {},
   "outputs": [
    {
     "data": {
      "application/vnd.microsoft.datawrangler.viewer.v0+json": {
       "columns": [
        {
         "name": "index",
         "rawType": "int64",
         "type": "integer"
        },
        {
         "name": "ENTORNO_Base",
         "rawType": "bool",
         "type": "boolean"
        },
        {
         "name": "ENTORNO_Hogar",
         "rawType": "bool",
         "type": "boolean"
        },
        {
         "name": "ENTORNO_Peatonal",
         "rawType": "bool",
         "type": "boolean"
        },
        {
         "name": "ENTORNO_Receso",
         "rawType": "bool",
         "type": "boolean"
        }
       ],
       "ref": "1d5c5ac3-6caf-4412-b796-1b1132006159",
       "rows": [
        [
         "0",
         "False",
         "True",
         "False",
         "False"
        ],
        [
         "1",
         "False",
         "True",
         "False",
         "False"
        ],
        [
         "2",
         "True",
         "False",
         "False",
         "False"
        ],
        [
         "3",
         "False",
         "True",
         "False",
         "False"
        ],
        [
         "4",
         "False",
         "True",
         "False",
         "False"
        ],
        [
         "5",
         "True",
         "False",
         "False",
         "False"
        ],
        [
         "6",
         "False",
         "False",
         "False",
         "True"
        ],
        [
         "7",
         "False",
         "True",
         "False",
         "False"
        ],
        [
         "8",
         "False",
         "True",
         "False",
         "False"
        ],
        [
         "9",
         "True",
         "False",
         "False",
         "False"
        ]
       ],
       "shape": {
        "columns": 4,
        "rows": 10
       }
      },
      "text/html": [
       "<div>\n",
       "<style scoped>\n",
       "    .dataframe tbody tr th:only-of-type {\n",
       "        vertical-align: middle;\n",
       "    }\n",
       "\n",
       "    .dataframe tbody tr th {\n",
       "        vertical-align: top;\n",
       "    }\n",
       "\n",
       "    .dataframe thead th {\n",
       "        text-align: right;\n",
       "    }\n",
       "</style>\n",
       "<table border=\"1\" class=\"dataframe\">\n",
       "  <thead>\n",
       "    <tr style=\"text-align: right;\">\n",
       "      <th></th>\n",
       "      <th>ENTORNO_Base</th>\n",
       "      <th>ENTORNO_Hogar</th>\n",
       "      <th>ENTORNO_Peatonal</th>\n",
       "      <th>ENTORNO_Receso</th>\n",
       "    </tr>\n",
       "  </thead>\n",
       "  <tbody>\n",
       "    <tr>\n",
       "      <th>0</th>\n",
       "      <td>False</td>\n",
       "      <td>True</td>\n",
       "      <td>False</td>\n",
       "      <td>False</td>\n",
       "    </tr>\n",
       "    <tr>\n",
       "      <th>1</th>\n",
       "      <td>False</td>\n",
       "      <td>True</td>\n",
       "      <td>False</td>\n",
       "      <td>False</td>\n",
       "    </tr>\n",
       "    <tr>\n",
       "      <th>2</th>\n",
       "      <td>True</td>\n",
       "      <td>False</td>\n",
       "      <td>False</td>\n",
       "      <td>False</td>\n",
       "    </tr>\n",
       "    <tr>\n",
       "      <th>3</th>\n",
       "      <td>False</td>\n",
       "      <td>True</td>\n",
       "      <td>False</td>\n",
       "      <td>False</td>\n",
       "    </tr>\n",
       "    <tr>\n",
       "      <th>4</th>\n",
       "      <td>False</td>\n",
       "      <td>True</td>\n",
       "      <td>False</td>\n",
       "      <td>False</td>\n",
       "    </tr>\n",
       "    <tr>\n",
       "      <th>5</th>\n",
       "      <td>True</td>\n",
       "      <td>False</td>\n",
       "      <td>False</td>\n",
       "      <td>False</td>\n",
       "    </tr>\n",
       "    <tr>\n",
       "      <th>6</th>\n",
       "      <td>False</td>\n",
       "      <td>False</td>\n",
       "      <td>False</td>\n",
       "      <td>True</td>\n",
       "    </tr>\n",
       "    <tr>\n",
       "      <th>7</th>\n",
       "      <td>False</td>\n",
       "      <td>True</td>\n",
       "      <td>False</td>\n",
       "      <td>False</td>\n",
       "    </tr>\n",
       "    <tr>\n",
       "      <th>8</th>\n",
       "      <td>False</td>\n",
       "      <td>True</td>\n",
       "      <td>False</td>\n",
       "      <td>False</td>\n",
       "    </tr>\n",
       "    <tr>\n",
       "      <th>9</th>\n",
       "      <td>True</td>\n",
       "      <td>False</td>\n",
       "      <td>False</td>\n",
       "      <td>False</td>\n",
       "    </tr>\n",
       "  </tbody>\n",
       "</table>\n",
       "</div>"
      ],
      "text/plain": [
       "   ENTORNO_Base  ENTORNO_Hogar  ENTORNO_Peatonal  ENTORNO_Receso\n",
       "0         False           True             False           False\n",
       "1         False           True             False           False\n",
       "2          True          False             False           False\n",
       "3         False           True             False           False\n",
       "4         False           True             False           False\n",
       "5          True          False             False           False\n",
       "6         False          False             False            True\n",
       "7         False           True             False           False\n",
       "8         False           True             False           False\n",
       "9          True          False             False           False"
      ]
     },
     "execution_count": 28,
     "metadata": {},
     "output_type": "execute_result"
    }
   ],
   "source": [
    "# One-Hot Encoding \n",
    "df_train_3 = pd.get_dummies(df_train_2, columns=['ENTORNO_DES'], prefix='ENTORNO')\n",
    "\n",
    "# Verificamos que se hayan creado las nuevas columnas correctamente\n",
    "df_train_3.filter(like='ENTORNO_').head(10)"
   ]
  },
  {
   "cell_type": "markdown",
   "id": "daae5904",
   "metadata": {},
   "source": [
    "## SEGMENTO_MAESTRO_DESC"
   ]
  },
  {
   "cell_type": "code",
   "execution_count": null,
   "id": "a1a5fa1c",
   "metadata": {},
   "outputs": [
    {
     "data": {
      "application/vnd.microsoft.datawrangler.viewer.v0+json": {
       "columns": [
        {
         "name": "index",
         "rawType": "int64",
         "type": "integer"
        },
        {
         "name": "Categoria",
         "rawType": "object",
         "type": "unknown"
        },
        {
         "name": "Frecuencia",
         "rawType": "int64",
         "type": "integer"
        }
       ],
       "ref": "f130382b-5068-4ad3-8e5c-945a626f1322",
       "rows": [
        [
         "0",
         "Hogar Reunión",
         "609"
        ],
        [
         "1",
         "Parada Técnica",
         "143"
        ],
        [
         "2",
         "Oficinistas",
         "96"
        ],
        [
         "3",
         "Clásico",
         "69"
        ],
        [
         "4",
         "Barrio Competido",
         "27"
        ],
        [
         "5",
         null,
         "7"
        ]
       ],
       "shape": {
        "columns": 2,
        "rows": 6
       }
      },
      "text/html": [
       "<div>\n",
       "<style scoped>\n",
       "    .dataframe tbody tr th:only-of-type {\n",
       "        vertical-align: middle;\n",
       "    }\n",
       "\n",
       "    .dataframe tbody tr th {\n",
       "        vertical-align: top;\n",
       "    }\n",
       "\n",
       "    .dataframe thead th {\n",
       "        text-align: right;\n",
       "    }\n",
       "</style>\n",
       "<table border=\"1\" class=\"dataframe\">\n",
       "  <thead>\n",
       "    <tr style=\"text-align: right;\">\n",
       "      <th></th>\n",
       "      <th>Categoria</th>\n",
       "      <th>Frecuencia</th>\n",
       "    </tr>\n",
       "  </thead>\n",
       "  <tbody>\n",
       "    <tr>\n",
       "      <th>0</th>\n",
       "      <td>Hogar Reunión</td>\n",
       "      <td>609</td>\n",
       "    </tr>\n",
       "    <tr>\n",
       "      <th>1</th>\n",
       "      <td>Parada Técnica</td>\n",
       "      <td>143</td>\n",
       "    </tr>\n",
       "    <tr>\n",
       "      <th>2</th>\n",
       "      <td>Oficinistas</td>\n",
       "      <td>96</td>\n",
       "    </tr>\n",
       "    <tr>\n",
       "      <th>3</th>\n",
       "      <td>Clásico</td>\n",
       "      <td>69</td>\n",
       "    </tr>\n",
       "    <tr>\n",
       "      <th>4</th>\n",
       "      <td>Barrio Competido</td>\n",
       "      <td>27</td>\n",
       "    </tr>\n",
       "    <tr>\n",
       "      <th>5</th>\n",
       "      <td>NaN</td>\n",
       "      <td>7</td>\n",
       "    </tr>\n",
       "  </tbody>\n",
       "</table>\n",
       "</div>"
      ],
      "text/plain": [
       "          Categoria  Frecuencia\n",
       "0     Hogar Reunión         609\n",
       "1    Parada Técnica         143\n",
       "2       Oficinistas          96\n",
       "3           Clásico          69\n",
       "4  Barrio Competido          27\n",
       "5               NaN           7"
      ]
     },
     "execution_count": 31,
     "metadata": {},
     "output_type": "execute_result"
    }
   ],
   "source": [
    "# Segmento Mestro\n",
    "segmento_unicos = df_train_3['SEGMENTO_MAESTRO_DESC'].value_counts(dropna=False).reset_index()\n",
    "segmento_unicos.columns = ['Categoria', 'Frecuencia']\n",
    "segmento_unicos"
   ]
  },
  {
   "cell_type": "code",
   "execution_count": null,
   "id": "20624488",
   "metadata": {},
   "outputs": [
    {
     "data": {
      "application/vnd.microsoft.datawrangler.viewer.v0+json": {
       "columns": [
        {
         "name": "index",
         "rawType": "int64",
         "type": "integer"
        },
        {
         "name": "SEGMENTO_Barrio Competido",
         "rawType": "bool",
         "type": "boolean"
        },
        {
         "name": "SEGMENTO_Clásico",
         "rawType": "bool",
         "type": "boolean"
        },
        {
         "name": "SEGMENTO_Hogar Reunión",
         "rawType": "bool",
         "type": "boolean"
        },
        {
         "name": "SEGMENTO_Missing",
         "rawType": "bool",
         "type": "boolean"
        },
        {
         "name": "SEGMENTO_Oficinistas",
         "rawType": "bool",
         "type": "boolean"
        },
        {
         "name": "SEGMENTO_Parada Técnica",
         "rawType": "bool",
         "type": "boolean"
        }
       ],
       "ref": "3178a715-c35b-4851-beda-4e1c36563402",
       "rows": [
        [
         "0",
         "False",
         "False",
         "True",
         "False",
         "False",
         "False"
        ],
        [
         "1",
         "False",
         "False",
         "True",
         "False",
         "False",
         "False"
        ],
        [
         "2",
         "False",
         "False",
         "True",
         "False",
         "False",
         "False"
        ],
        [
         "3",
         "False",
         "False",
         "True",
         "False",
         "False",
         "False"
        ],
        [
         "4",
         "False",
         "False",
         "True",
         "False",
         "False",
         "False"
        ],
        [
         "5",
         "False",
         "False",
         "False",
         "False",
         "True",
         "False"
        ],
        [
         "6",
         "False",
         "False",
         "False",
         "False",
         "True",
         "False"
        ],
        [
         "7",
         "False",
         "False",
         "True",
         "False",
         "False",
         "False"
        ],
        [
         "8",
         "False",
         "False",
         "True",
         "False",
         "False",
         "False"
        ],
        [
         "9",
         "False",
         "False",
         "True",
         "False",
         "False",
         "False"
        ]
       ],
       "shape": {
        "columns": 6,
        "rows": 10
       }
      },
      "text/html": [
       "<div>\n",
       "<style scoped>\n",
       "    .dataframe tbody tr th:only-of-type {\n",
       "        vertical-align: middle;\n",
       "    }\n",
       "\n",
       "    .dataframe tbody tr th {\n",
       "        vertical-align: top;\n",
       "    }\n",
       "\n",
       "    .dataframe thead th {\n",
       "        text-align: right;\n",
       "    }\n",
       "</style>\n",
       "<table border=\"1\" class=\"dataframe\">\n",
       "  <thead>\n",
       "    <tr style=\"text-align: right;\">\n",
       "      <th></th>\n",
       "      <th>SEGMENTO_Barrio Competido</th>\n",
       "      <th>SEGMENTO_Clásico</th>\n",
       "      <th>SEGMENTO_Hogar Reunión</th>\n",
       "      <th>SEGMENTO_Missing</th>\n",
       "      <th>SEGMENTO_Oficinistas</th>\n",
       "      <th>SEGMENTO_Parada Técnica</th>\n",
       "    </tr>\n",
       "  </thead>\n",
       "  <tbody>\n",
       "    <tr>\n",
       "      <th>0</th>\n",
       "      <td>False</td>\n",
       "      <td>False</td>\n",
       "      <td>True</td>\n",
       "      <td>False</td>\n",
       "      <td>False</td>\n",
       "      <td>False</td>\n",
       "    </tr>\n",
       "    <tr>\n",
       "      <th>1</th>\n",
       "      <td>False</td>\n",
       "      <td>False</td>\n",
       "      <td>True</td>\n",
       "      <td>False</td>\n",
       "      <td>False</td>\n",
       "      <td>False</td>\n",
       "    </tr>\n",
       "    <tr>\n",
       "      <th>2</th>\n",
       "      <td>False</td>\n",
       "      <td>False</td>\n",
       "      <td>True</td>\n",
       "      <td>False</td>\n",
       "      <td>False</td>\n",
       "      <td>False</td>\n",
       "    </tr>\n",
       "    <tr>\n",
       "      <th>3</th>\n",
       "      <td>False</td>\n",
       "      <td>False</td>\n",
       "      <td>True</td>\n",
       "      <td>False</td>\n",
       "      <td>False</td>\n",
       "      <td>False</td>\n",
       "    </tr>\n",
       "    <tr>\n",
       "      <th>4</th>\n",
       "      <td>False</td>\n",
       "      <td>False</td>\n",
       "      <td>True</td>\n",
       "      <td>False</td>\n",
       "      <td>False</td>\n",
       "      <td>False</td>\n",
       "    </tr>\n",
       "    <tr>\n",
       "      <th>5</th>\n",
       "      <td>False</td>\n",
       "      <td>False</td>\n",
       "      <td>False</td>\n",
       "      <td>False</td>\n",
       "      <td>True</td>\n",
       "      <td>False</td>\n",
       "    </tr>\n",
       "    <tr>\n",
       "      <th>6</th>\n",
       "      <td>False</td>\n",
       "      <td>False</td>\n",
       "      <td>False</td>\n",
       "      <td>False</td>\n",
       "      <td>True</td>\n",
       "      <td>False</td>\n",
       "    </tr>\n",
       "    <tr>\n",
       "      <th>7</th>\n",
       "      <td>False</td>\n",
       "      <td>False</td>\n",
       "      <td>True</td>\n",
       "      <td>False</td>\n",
       "      <td>False</td>\n",
       "      <td>False</td>\n",
       "    </tr>\n",
       "    <tr>\n",
       "      <th>8</th>\n",
       "      <td>False</td>\n",
       "      <td>False</td>\n",
       "      <td>True</td>\n",
       "      <td>False</td>\n",
       "      <td>False</td>\n",
       "      <td>False</td>\n",
       "    </tr>\n",
       "    <tr>\n",
       "      <th>9</th>\n",
       "      <td>False</td>\n",
       "      <td>False</td>\n",
       "      <td>True</td>\n",
       "      <td>False</td>\n",
       "      <td>False</td>\n",
       "      <td>False</td>\n",
       "    </tr>\n",
       "  </tbody>\n",
       "</table>\n",
       "</div>"
      ],
      "text/plain": [
       "   SEGMENTO_Barrio Competido  SEGMENTO_Clásico  SEGMENTO_Hogar Reunión  \\\n",
       "0                      False             False                    True   \n",
       "1                      False             False                    True   \n",
       "2                      False             False                    True   \n",
       "3                      False             False                    True   \n",
       "4                      False             False                    True   \n",
       "5                      False             False                   False   \n",
       "6                      False             False                   False   \n",
       "7                      False             False                    True   \n",
       "8                      False             False                    True   \n",
       "9                      False             False                    True   \n",
       "\n",
       "   SEGMENTO_Missing  SEGMENTO_Oficinistas  SEGMENTO_Parada Técnica  \n",
       "0             False                 False                    False  \n",
       "1             False                 False                    False  \n",
       "2             False                 False                    False  \n",
       "3             False                 False                    False  \n",
       "4             False                 False                    False  \n",
       "5             False                  True                    False  \n",
       "6             False                  True                    False  \n",
       "7             False                 False                    False  \n",
       "8             False                 False                    False  \n",
       "9             False                 False                    False  "
      ]
     },
     "execution_count": 32,
     "metadata": {},
     "output_type": "execute_result"
    }
   ],
   "source": [
    "# Reemplazamos NaN por \"Missing\" en SEGMENTO_MAESTRO_DESC\n",
    "df_train_3['SEGMENTO_MAESTRO_DESC'] = df_train_3['SEGMENTO_MAESTRO_DESC'].fillna(\"Missing\")\n",
    "\n",
    "# Aplicamos one-hot encoding\n",
    "df_train_4 = pd.get_dummies(df_train_3, columns=['SEGMENTO_MAESTRO_DESC'], prefix='SEGMENTO')\n",
    "\n",
    "# Verificamos las nuevas columnas generadas\n",
    "df_train_4.filter(like='SEGMENTO_').head(10)"
   ]
  },
  {
   "cell_type": "markdown",
   "id": "32171bd2",
   "metadata": {},
   "source": [
    "## LID_UBICACION_TIENDA"
   ]
  },
  {
   "cell_type": "code",
   "execution_count": null,
   "id": "d7ee5551",
   "metadata": {},
   "outputs": [
    {
     "data": {
      "application/vnd.microsoft.datawrangler.viewer.v0+json": {
       "columns": [
        {
         "name": "index",
         "rawType": "int64",
         "type": "integer"
        },
        {
         "name": "Categoria",
         "rawType": "object",
         "type": "string"
        },
        {
         "name": "Frecuencia",
         "rawType": "int64",
         "type": "integer"
        }
       ],
       "ref": "3eef2b73-7ce6-437f-bf82-35fab45d5ee3",
       "rows": [
        [
         "0",
         "UT_DENSIDAD",
         "532"
        ],
        [
         "1",
         "UT_TRAFICO_VEHICULAR",
         "216"
        ],
        [
         "2",
         "UT_GAS_URBANA",
         "102"
        ],
        [
         "3",
         "UT_CARRETERA_GAS",
         "57"
        ],
        [
         "4",
         "UT_TRAFICO_PEATONAL",
         "44"
        ]
       ],
       "shape": {
        "columns": 2,
        "rows": 5
       }
      },
      "text/html": [
       "<div>\n",
       "<style scoped>\n",
       "    .dataframe tbody tr th:only-of-type {\n",
       "        vertical-align: middle;\n",
       "    }\n",
       "\n",
       "    .dataframe tbody tr th {\n",
       "        vertical-align: top;\n",
       "    }\n",
       "\n",
       "    .dataframe thead th {\n",
       "        text-align: right;\n",
       "    }\n",
       "</style>\n",
       "<table border=\"1\" class=\"dataframe\">\n",
       "  <thead>\n",
       "    <tr style=\"text-align: right;\">\n",
       "      <th></th>\n",
       "      <th>Categoria</th>\n",
       "      <th>Frecuencia</th>\n",
       "    </tr>\n",
       "  </thead>\n",
       "  <tbody>\n",
       "    <tr>\n",
       "      <th>0</th>\n",
       "      <td>UT_DENSIDAD</td>\n",
       "      <td>532</td>\n",
       "    </tr>\n",
       "    <tr>\n",
       "      <th>1</th>\n",
       "      <td>UT_TRAFICO_VEHICULAR</td>\n",
       "      <td>216</td>\n",
       "    </tr>\n",
       "    <tr>\n",
       "      <th>2</th>\n",
       "      <td>UT_GAS_URBANA</td>\n",
       "      <td>102</td>\n",
       "    </tr>\n",
       "    <tr>\n",
       "      <th>3</th>\n",
       "      <td>UT_CARRETERA_GAS</td>\n",
       "      <td>57</td>\n",
       "    </tr>\n",
       "    <tr>\n",
       "      <th>4</th>\n",
       "      <td>UT_TRAFICO_PEATONAL</td>\n",
       "      <td>44</td>\n",
       "    </tr>\n",
       "  </tbody>\n",
       "</table>\n",
       "</div>"
      ],
      "text/plain": [
       "              Categoria  Frecuencia\n",
       "0           UT_DENSIDAD         532\n",
       "1  UT_TRAFICO_VEHICULAR         216\n",
       "2         UT_GAS_URBANA         102\n",
       "3      UT_CARRETERA_GAS          57\n",
       "4   UT_TRAFICO_PEATONAL          44"
      ]
     },
     "execution_count": 34,
     "metadata": {},
     "output_type": "execute_result"
    }
   ],
   "source": [
    "# Ubicacion Tienda\n",
    "ubicacion_unicos = df_train_4['LID_UBICACION_TIENDA'].value_counts(dropna=False).reset_index()\n",
    "ubicacion_unicos.columns = ['Categoria', 'Frecuencia']\n",
    "ubicacion_unicos\n"
   ]
  },
  {
   "cell_type": "code",
   "execution_count": null,
   "metadata": {},
   "outputs": [
    {
     "data": {
      "application/vnd.microsoft.datawrangler.viewer.v0+json": {
       "columns": [
        {
         "name": "index",
         "rawType": "int64",
         "type": "integer"
        },
        {
         "name": "UBICACION_UT_CARRETERA_GAS",
         "rawType": "bool",
         "type": "boolean"
        },
        {
         "name": "UBICACION_UT_DENSIDAD",
         "rawType": "bool",
         "type": "boolean"
        },
        {
         "name": "UBICACION_UT_GAS_URBANA",
         "rawType": "bool",
         "type": "boolean"
        },
        {
         "name": "UBICACION_UT_TRAFICO_PEATONAL",
         "rawType": "bool",
         "type": "boolean"
        },
        {
         "name": "UBICACION_UT_TRAFICO_VEHICULAR",
         "rawType": "bool",
         "type": "boolean"
        }
       ],
       "ref": "03519499-f45b-4e68-895c-03ca54996353",
       "rows": [
        [
         "0",
         "False",
         "True",
         "False",
         "False",
         "False"
        ],
        [
         "1",
         "False",
         "True",
         "False",
         "False",
         "False"
        ],
        [
         "2",
         "False",
         "True",
         "False",
         "False",
         "False"
        ],
        [
         "3",
         "False",
         "True",
         "False",
         "False",
         "False"
        ],
        [
         "4",
         "False",
         "True",
         "False",
         "False",
         "False"
        ],
        [
         "5",
         "False",
         "False",
         "True",
         "False",
         "False"
        ],
        [
         "6",
         "False",
         "False",
         "False",
         "True",
         "False"
        ],
        [
         "7",
         "False",
         "True",
         "False",
         "False",
         "False"
        ],
        [
         "8",
         "False",
         "True",
         "False",
         "False",
         "False"
        ],
        [
         "9",
         "False",
         "False",
         "False",
         "False",
         "True"
        ]
       ],
       "shape": {
        "columns": 5,
        "rows": 10
       }
      },
      "text/html": [
       "<div>\n",
       "<style scoped>\n",
       "    .dataframe tbody tr th:only-of-type {\n",
       "        vertical-align: middle;\n",
       "    }\n",
       "\n",
       "    .dataframe tbody tr th {\n",
       "        vertical-align: top;\n",
       "    }\n",
       "\n",
       "    .dataframe thead th {\n",
       "        text-align: right;\n",
       "    }\n",
       "</style>\n",
       "<table border=\"1\" class=\"dataframe\">\n",
       "  <thead>\n",
       "    <tr style=\"text-align: right;\">\n",
       "      <th></th>\n",
       "      <th>UBICACION_UT_CARRETERA_GAS</th>\n",
       "      <th>UBICACION_UT_DENSIDAD</th>\n",
       "      <th>UBICACION_UT_GAS_URBANA</th>\n",
       "      <th>UBICACION_UT_TRAFICO_PEATONAL</th>\n",
       "      <th>UBICACION_UT_TRAFICO_VEHICULAR</th>\n",
       "    </tr>\n",
       "  </thead>\n",
       "  <tbody>\n",
       "    <tr>\n",
       "      <th>0</th>\n",
       "      <td>False</td>\n",
       "      <td>True</td>\n",
       "      <td>False</td>\n",
       "      <td>False</td>\n",
       "      <td>False</td>\n",
       "    </tr>\n",
       "    <tr>\n",
       "      <th>1</th>\n",
       "      <td>False</td>\n",
       "      <td>True</td>\n",
       "      <td>False</td>\n",
       "      <td>False</td>\n",
       "      <td>False</td>\n",
       "    </tr>\n",
       "    <tr>\n",
       "      <th>2</th>\n",
       "      <td>False</td>\n",
       "      <td>True</td>\n",
       "      <td>False</td>\n",
       "      <td>False</td>\n",
       "      <td>False</td>\n",
       "    </tr>\n",
       "    <tr>\n",
       "      <th>3</th>\n",
       "      <td>False</td>\n",
       "      <td>True</td>\n",
       "      <td>False</td>\n",
       "      <td>False</td>\n",
       "      <td>False</td>\n",
       "    </tr>\n",
       "    <tr>\n",
       "      <th>4</th>\n",
       "      <td>False</td>\n",
       "      <td>True</td>\n",
       "      <td>False</td>\n",
       "      <td>False</td>\n",
       "      <td>False</td>\n",
       "    </tr>\n",
       "    <tr>\n",
       "      <th>5</th>\n",
       "      <td>False</td>\n",
       "      <td>False</td>\n",
       "      <td>True</td>\n",
       "      <td>False</td>\n",
       "      <td>False</td>\n",
       "    </tr>\n",
       "    <tr>\n",
       "      <th>6</th>\n",
       "      <td>False</td>\n",
       "      <td>False</td>\n",
       "      <td>False</td>\n",
       "      <td>True</td>\n",
       "      <td>False</td>\n",
       "    </tr>\n",
       "    <tr>\n",
       "      <th>7</th>\n",
       "      <td>False</td>\n",
       "      <td>True</td>\n",
       "      <td>False</td>\n",
       "      <td>False</td>\n",
       "      <td>False</td>\n",
       "    </tr>\n",
       "    <tr>\n",
       "      <th>8</th>\n",
       "      <td>False</td>\n",
       "      <td>True</td>\n",
       "      <td>False</td>\n",
       "      <td>False</td>\n",
       "      <td>False</td>\n",
       "    </tr>\n",
       "    <tr>\n",
       "      <th>9</th>\n",
       "      <td>False</td>\n",
       "      <td>False</td>\n",
       "      <td>False</td>\n",
       "      <td>False</td>\n",
       "      <td>True</td>\n",
       "    </tr>\n",
       "  </tbody>\n",
       "</table>\n",
       "</div>"
      ],
      "text/plain": [
       "   UBICACION_UT_CARRETERA_GAS  UBICACION_UT_DENSIDAD  UBICACION_UT_GAS_URBANA  \\\n",
       "0                       False                   True                    False   \n",
       "1                       False                   True                    False   \n",
       "2                       False                   True                    False   \n",
       "3                       False                   True                    False   \n",
       "4                       False                   True                    False   \n",
       "5                       False                  False                     True   \n",
       "6                       False                  False                    False   \n",
       "7                       False                   True                    False   \n",
       "8                       False                   True                    False   \n",
       "9                       False                  False                    False   \n",
       "\n",
       "   UBICACION_UT_TRAFICO_PEATONAL  UBICACION_UT_TRAFICO_VEHICULAR  \n",
       "0                          False                           False  \n",
       "1                          False                           False  \n",
       "2                          False                           False  \n",
       "3                          False                           False  \n",
       "4                          False                           False  \n",
       "5                          False                           False  \n",
       "6                           True                           False  \n",
       "7                          False                           False  \n",
       "8                          False                           False  \n",
       "9                          False                            True  "
      ]
     },
     "execution_count": 35,
     "metadata": {},
     "output_type": "execute_result"
    }
   ],
   "source": [
    "# One-Hot Encoding \n",
    "df_train_5 = pd.get_dummies(df_train_4, columns=['LID_UBICACION_TIENDA'], prefix='UBICACION')\n",
    "\n",
    "# Verificamos las nuevas columnas generadas\n",
    "df_train_5.filter(like='UBICACION_').head(10)"
   ]
  },
  {
   "cell_type": "markdown",
   "id": "3fd6092a",
   "metadata": {},
   "source": [
    "## Numeric Train Dataset"
   ]
  },
  {
   "cell_type": "code",
   "execution_count": null,
   "id": "9a4cb0eb",
   "metadata": {},
   "outputs": [
    {
     "data": {
      "application/vnd.microsoft.datawrangler.viewer.v0+json": {
       "columns": [
        {
         "name": "index",
         "rawType": "int64",
         "type": "integer"
        },
        {
         "name": "PLAZA_CVE",
         "rawType": "int64",
         "type": "integer"
        },
        {
         "name": "NIVELSOCIOECONOMICO_DES",
         "rawType": "int64",
         "type": "integer"
        },
        {
         "name": "MTS2VENTAS_NUM",
         "rawType": "float64",
         "type": "float"
        },
        {
         "name": "PUERTASREFRIG_NUM",
         "rawType": "int64",
         "type": "integer"
        },
        {
         "name": "CAJONESESTACIONAMIENTO_NUM",
         "rawType": "int64",
         "type": "integer"
        },
        {
         "name": "LATITUD_NUM",
         "rawType": "float64",
         "type": "float"
        },
        {
         "name": "LONGITUD_NUM",
         "rawType": "float64",
         "type": "float"
        },
        {
         "name": "ENTORNO_Base",
         "rawType": "bool",
         "type": "boolean"
        },
        {
         "name": "ENTORNO_Hogar",
         "rawType": "bool",
         "type": "boolean"
        },
        {
         "name": "ENTORNO_Peatonal",
         "rawType": "bool",
         "type": "boolean"
        },
        {
         "name": "ENTORNO_Receso",
         "rawType": "bool",
         "type": "boolean"
        },
        {
         "name": "SEGMENTO_Barrio Competido",
         "rawType": "bool",
         "type": "boolean"
        },
        {
         "name": "SEGMENTO_Clásico",
         "rawType": "bool",
         "type": "boolean"
        },
        {
         "name": "SEGMENTO_Hogar Reunión",
         "rawType": "bool",
         "type": "boolean"
        },
        {
         "name": "SEGMENTO_Missing",
         "rawType": "bool",
         "type": "boolean"
        },
        {
         "name": "SEGMENTO_Oficinistas",
         "rawType": "bool",
         "type": "boolean"
        },
        {
         "name": "SEGMENTO_Parada Técnica",
         "rawType": "bool",
         "type": "boolean"
        },
        {
         "name": "UBICACION_UT_CARRETERA_GAS",
         "rawType": "bool",
         "type": "boolean"
        },
        {
         "name": "UBICACION_UT_DENSIDAD",
         "rawType": "bool",
         "type": "boolean"
        },
        {
         "name": "UBICACION_UT_GAS_URBANA",
         "rawType": "bool",
         "type": "boolean"
        },
        {
         "name": "UBICACION_UT_TRAFICO_PEATONAL",
         "rawType": "bool",
         "type": "boolean"
        },
        {
         "name": "UBICACION_UT_TRAFICO_VEHICULAR",
         "rawType": "bool",
         "type": "boolean"
        }
       ],
       "ref": "2758480f-3340-4ebe-a4b3-596c3c55049c",
       "rows": [
        [
         "0",
         "1",
         "4",
         "127.42",
         "13",
         "7",
         "25.69107",
         "-100.21261",
         "False",
         "True",
         "False",
         "False",
         "False",
         "False",
         "True",
         "False",
         "False",
         "False",
         "False",
         "True",
         "False",
         "False",
         "False"
        ],
        [
         "1",
         "1",
         "5",
         "128.13",
         "13",
         "0",
         "25.73571",
         "-100.18086",
         "False",
         "True",
         "False",
         "False",
         "False",
         "False",
         "True",
         "False",
         "False",
         "False",
         "False",
         "True",
         "False",
         "False",
         "False"
        ],
        [
         "2",
         "1",
         "5",
         "87.62",
         "11",
         "11",
         "25.71883",
         "-100.19133",
         "True",
         "False",
         "False",
         "False",
         "False",
         "False",
         "True",
         "False",
         "False",
         "False",
         "False",
         "True",
         "False",
         "False",
         "False"
        ],
        [
         "3",
         "1",
         "5",
         "90.7",
         "13",
         "0",
         "25.66952",
         "-100.20744",
         "False",
         "True",
         "False",
         "False",
         "False",
         "False",
         "True",
         "False",
         "False",
         "False",
         "False",
         "True",
         "False",
         "False",
         "False"
        ],
        [
         "4",
         "1",
         "5",
         "95.3",
         "13",
         "6",
         "25.73766",
         "-100.16116",
         "False",
         "True",
         "False",
         "False",
         "False",
         "False",
         "True",
         "False",
         "False",
         "False",
         "False",
         "True",
         "False",
         "False",
         "False"
        ],
        [
         "5",
         "1",
         "5",
         "116.07",
         "13",
         "0",
         "25.70486",
         "-100.15613",
         "True",
         "False",
         "False",
         "False",
         "False",
         "False",
         "False",
         "False",
         "True",
         "False",
         "False",
         "False",
         "True",
         "False",
         "False"
        ],
        [
         "6",
         "1",
         "5",
         "78.48",
         "13",
         "0",
         "25.67955",
         "-100.24328",
         "False",
         "False",
         "False",
         "True",
         "False",
         "False",
         "False",
         "False",
         "True",
         "False",
         "False",
         "False",
         "False",
         "True",
         "False"
        ],
        [
         "7",
         "1",
         "5",
         "100.58",
         "12",
         "7",
         "25.70058",
         "-100.2018",
         "False",
         "True",
         "False",
         "False",
         "False",
         "False",
         "True",
         "False",
         "False",
         "False",
         "False",
         "True",
         "False",
         "False",
         "False"
        ],
        [
         "8",
         "1",
         "5",
         "73.24",
         "13",
         "0",
         "25.67344",
         "-100.26084",
         "False",
         "True",
         "False",
         "False",
         "False",
         "False",
         "True",
         "False",
         "False",
         "False",
         "False",
         "True",
         "False",
         "False",
         "False"
        ],
        [
         "9",
         "1",
         "5",
         "107.23",
         "13",
         "0",
         "25.68419",
         "-100.22138",
         "True",
         "False",
         "False",
         "False",
         "False",
         "False",
         "True",
         "False",
         "False",
         "False",
         "False",
         "False",
         "False",
         "False",
         "True"
        ]
       ],
       "shape": {
        "columns": 22,
        "rows": 10
       }
      },
      "text/html": [
       "<div>\n",
       "<style scoped>\n",
       "    .dataframe tbody tr th:only-of-type {\n",
       "        vertical-align: middle;\n",
       "    }\n",
       "\n",
       "    .dataframe tbody tr th {\n",
       "        vertical-align: top;\n",
       "    }\n",
       "\n",
       "    .dataframe thead th {\n",
       "        text-align: right;\n",
       "    }\n",
       "</style>\n",
       "<table border=\"1\" class=\"dataframe\">\n",
       "  <thead>\n",
       "    <tr style=\"text-align: right;\">\n",
       "      <th></th>\n",
       "      <th>PLAZA_CVE</th>\n",
       "      <th>NIVELSOCIOECONOMICO_DES</th>\n",
       "      <th>MTS2VENTAS_NUM</th>\n",
       "      <th>PUERTASREFRIG_NUM</th>\n",
       "      <th>CAJONESESTACIONAMIENTO_NUM</th>\n",
       "      <th>LATITUD_NUM</th>\n",
       "      <th>LONGITUD_NUM</th>\n",
       "      <th>ENTORNO_Base</th>\n",
       "      <th>ENTORNO_Hogar</th>\n",
       "      <th>ENTORNO_Peatonal</th>\n",
       "      <th>...</th>\n",
       "      <th>SEGMENTO_Clásico</th>\n",
       "      <th>SEGMENTO_Hogar Reunión</th>\n",
       "      <th>SEGMENTO_Missing</th>\n",
       "      <th>SEGMENTO_Oficinistas</th>\n",
       "      <th>SEGMENTO_Parada Técnica</th>\n",
       "      <th>UBICACION_UT_CARRETERA_GAS</th>\n",
       "      <th>UBICACION_UT_DENSIDAD</th>\n",
       "      <th>UBICACION_UT_GAS_URBANA</th>\n",
       "      <th>UBICACION_UT_TRAFICO_PEATONAL</th>\n",
       "      <th>UBICACION_UT_TRAFICO_VEHICULAR</th>\n",
       "    </tr>\n",
       "  </thead>\n",
       "  <tbody>\n",
       "    <tr>\n",
       "      <th>0</th>\n",
       "      <td>1</td>\n",
       "      <td>4</td>\n",
       "      <td>127.42</td>\n",
       "      <td>13</td>\n",
       "      <td>7</td>\n",
       "      <td>25.69107</td>\n",
       "      <td>-100.21261</td>\n",
       "      <td>False</td>\n",
       "      <td>True</td>\n",
       "      <td>False</td>\n",
       "      <td>...</td>\n",
       "      <td>False</td>\n",
       "      <td>True</td>\n",
       "      <td>False</td>\n",
       "      <td>False</td>\n",
       "      <td>False</td>\n",
       "      <td>False</td>\n",
       "      <td>True</td>\n",
       "      <td>False</td>\n",
       "      <td>False</td>\n",
       "      <td>False</td>\n",
       "    </tr>\n",
       "    <tr>\n",
       "      <th>1</th>\n",
       "      <td>1</td>\n",
       "      <td>5</td>\n",
       "      <td>128.13</td>\n",
       "      <td>13</td>\n",
       "      <td>0</td>\n",
       "      <td>25.73571</td>\n",
       "      <td>-100.18086</td>\n",
       "      <td>False</td>\n",
       "      <td>True</td>\n",
       "      <td>False</td>\n",
       "      <td>...</td>\n",
       "      <td>False</td>\n",
       "      <td>True</td>\n",
       "      <td>False</td>\n",
       "      <td>False</td>\n",
       "      <td>False</td>\n",
       "      <td>False</td>\n",
       "      <td>True</td>\n",
       "      <td>False</td>\n",
       "      <td>False</td>\n",
       "      <td>False</td>\n",
       "    </tr>\n",
       "    <tr>\n",
       "      <th>2</th>\n",
       "      <td>1</td>\n",
       "      <td>5</td>\n",
       "      <td>87.62</td>\n",
       "      <td>11</td>\n",
       "      <td>11</td>\n",
       "      <td>25.71883</td>\n",
       "      <td>-100.19133</td>\n",
       "      <td>True</td>\n",
       "      <td>False</td>\n",
       "      <td>False</td>\n",
       "      <td>...</td>\n",
       "      <td>False</td>\n",
       "      <td>True</td>\n",
       "      <td>False</td>\n",
       "      <td>False</td>\n",
       "      <td>False</td>\n",
       "      <td>False</td>\n",
       "      <td>True</td>\n",
       "      <td>False</td>\n",
       "      <td>False</td>\n",
       "      <td>False</td>\n",
       "    </tr>\n",
       "    <tr>\n",
       "      <th>3</th>\n",
       "      <td>1</td>\n",
       "      <td>5</td>\n",
       "      <td>90.70</td>\n",
       "      <td>13</td>\n",
       "      <td>0</td>\n",
       "      <td>25.66952</td>\n",
       "      <td>-100.20744</td>\n",
       "      <td>False</td>\n",
       "      <td>True</td>\n",
       "      <td>False</td>\n",
       "      <td>...</td>\n",
       "      <td>False</td>\n",
       "      <td>True</td>\n",
       "      <td>False</td>\n",
       "      <td>False</td>\n",
       "      <td>False</td>\n",
       "      <td>False</td>\n",
       "      <td>True</td>\n",
       "      <td>False</td>\n",
       "      <td>False</td>\n",
       "      <td>False</td>\n",
       "    </tr>\n",
       "    <tr>\n",
       "      <th>4</th>\n",
       "      <td>1</td>\n",
       "      <td>5</td>\n",
       "      <td>95.30</td>\n",
       "      <td>13</td>\n",
       "      <td>6</td>\n",
       "      <td>25.73766</td>\n",
       "      <td>-100.16116</td>\n",
       "      <td>False</td>\n",
       "      <td>True</td>\n",
       "      <td>False</td>\n",
       "      <td>...</td>\n",
       "      <td>False</td>\n",
       "      <td>True</td>\n",
       "      <td>False</td>\n",
       "      <td>False</td>\n",
       "      <td>False</td>\n",
       "      <td>False</td>\n",
       "      <td>True</td>\n",
       "      <td>False</td>\n",
       "      <td>False</td>\n",
       "      <td>False</td>\n",
       "    </tr>\n",
       "    <tr>\n",
       "      <th>5</th>\n",
       "      <td>1</td>\n",
       "      <td>5</td>\n",
       "      <td>116.07</td>\n",
       "      <td>13</td>\n",
       "      <td>0</td>\n",
       "      <td>25.70486</td>\n",
       "      <td>-100.15613</td>\n",
       "      <td>True</td>\n",
       "      <td>False</td>\n",
       "      <td>False</td>\n",
       "      <td>...</td>\n",
       "      <td>False</td>\n",
       "      <td>False</td>\n",
       "      <td>False</td>\n",
       "      <td>True</td>\n",
       "      <td>False</td>\n",
       "      <td>False</td>\n",
       "      <td>False</td>\n",
       "      <td>True</td>\n",
       "      <td>False</td>\n",
       "      <td>False</td>\n",
       "    </tr>\n",
       "    <tr>\n",
       "      <th>6</th>\n",
       "      <td>1</td>\n",
       "      <td>5</td>\n",
       "      <td>78.48</td>\n",
       "      <td>13</td>\n",
       "      <td>0</td>\n",
       "      <td>25.67955</td>\n",
       "      <td>-100.24328</td>\n",
       "      <td>False</td>\n",
       "      <td>False</td>\n",
       "      <td>False</td>\n",
       "      <td>...</td>\n",
       "      <td>False</td>\n",
       "      <td>False</td>\n",
       "      <td>False</td>\n",
       "      <td>True</td>\n",
       "      <td>False</td>\n",
       "      <td>False</td>\n",
       "      <td>False</td>\n",
       "      <td>False</td>\n",
       "      <td>True</td>\n",
       "      <td>False</td>\n",
       "    </tr>\n",
       "    <tr>\n",
       "      <th>7</th>\n",
       "      <td>1</td>\n",
       "      <td>5</td>\n",
       "      <td>100.58</td>\n",
       "      <td>12</td>\n",
       "      <td>7</td>\n",
       "      <td>25.70058</td>\n",
       "      <td>-100.20180</td>\n",
       "      <td>False</td>\n",
       "      <td>True</td>\n",
       "      <td>False</td>\n",
       "      <td>...</td>\n",
       "      <td>False</td>\n",
       "      <td>True</td>\n",
       "      <td>False</td>\n",
       "      <td>False</td>\n",
       "      <td>False</td>\n",
       "      <td>False</td>\n",
       "      <td>True</td>\n",
       "      <td>False</td>\n",
       "      <td>False</td>\n",
       "      <td>False</td>\n",
       "    </tr>\n",
       "    <tr>\n",
       "      <th>8</th>\n",
       "      <td>1</td>\n",
       "      <td>5</td>\n",
       "      <td>73.24</td>\n",
       "      <td>13</td>\n",
       "      <td>0</td>\n",
       "      <td>25.67344</td>\n",
       "      <td>-100.26084</td>\n",
       "      <td>False</td>\n",
       "      <td>True</td>\n",
       "      <td>False</td>\n",
       "      <td>...</td>\n",
       "      <td>False</td>\n",
       "      <td>True</td>\n",
       "      <td>False</td>\n",
       "      <td>False</td>\n",
       "      <td>False</td>\n",
       "      <td>False</td>\n",
       "      <td>True</td>\n",
       "      <td>False</td>\n",
       "      <td>False</td>\n",
       "      <td>False</td>\n",
       "    </tr>\n",
       "    <tr>\n",
       "      <th>9</th>\n",
       "      <td>1</td>\n",
       "      <td>5</td>\n",
       "      <td>107.23</td>\n",
       "      <td>13</td>\n",
       "      <td>0</td>\n",
       "      <td>25.68419</td>\n",
       "      <td>-100.22138</td>\n",
       "      <td>True</td>\n",
       "      <td>False</td>\n",
       "      <td>False</td>\n",
       "      <td>...</td>\n",
       "      <td>False</td>\n",
       "      <td>True</td>\n",
       "      <td>False</td>\n",
       "      <td>False</td>\n",
       "      <td>False</td>\n",
       "      <td>False</td>\n",
       "      <td>False</td>\n",
       "      <td>False</td>\n",
       "      <td>False</td>\n",
       "      <td>True</td>\n",
       "    </tr>\n",
       "  </tbody>\n",
       "</table>\n",
       "<p>10 rows × 22 columns</p>\n",
       "</div>"
      ],
      "text/plain": [
       "   PLAZA_CVE  NIVELSOCIOECONOMICO_DES  MTS2VENTAS_NUM  PUERTASREFRIG_NUM  \\\n",
       "0          1                        4          127.42                 13   \n",
       "1          1                        5          128.13                 13   \n",
       "2          1                        5           87.62                 11   \n",
       "3          1                        5           90.70                 13   \n",
       "4          1                        5           95.30                 13   \n",
       "5          1                        5          116.07                 13   \n",
       "6          1                        5           78.48                 13   \n",
       "7          1                        5          100.58                 12   \n",
       "8          1                        5           73.24                 13   \n",
       "9          1                        5          107.23                 13   \n",
       "\n",
       "   CAJONESESTACIONAMIENTO_NUM  LATITUD_NUM  LONGITUD_NUM  ENTORNO_Base  \\\n",
       "0                           7     25.69107    -100.21261         False   \n",
       "1                           0     25.73571    -100.18086         False   \n",
       "2                          11     25.71883    -100.19133          True   \n",
       "3                           0     25.66952    -100.20744         False   \n",
       "4                           6     25.73766    -100.16116         False   \n",
       "5                           0     25.70486    -100.15613          True   \n",
       "6                           0     25.67955    -100.24328         False   \n",
       "7                           7     25.70058    -100.20180         False   \n",
       "8                           0     25.67344    -100.26084         False   \n",
       "9                           0     25.68419    -100.22138          True   \n",
       "\n",
       "   ENTORNO_Hogar  ENTORNO_Peatonal  ...  SEGMENTO_Clásico  \\\n",
       "0           True             False  ...             False   \n",
       "1           True             False  ...             False   \n",
       "2          False             False  ...             False   \n",
       "3           True             False  ...             False   \n",
       "4           True             False  ...             False   \n",
       "5          False             False  ...             False   \n",
       "6          False             False  ...             False   \n",
       "7           True             False  ...             False   \n",
       "8           True             False  ...             False   \n",
       "9          False             False  ...             False   \n",
       "\n",
       "   SEGMENTO_Hogar Reunión  SEGMENTO_Missing  SEGMENTO_Oficinistas  \\\n",
       "0                    True             False                 False   \n",
       "1                    True             False                 False   \n",
       "2                    True             False                 False   \n",
       "3                    True             False                 False   \n",
       "4                    True             False                 False   \n",
       "5                   False             False                  True   \n",
       "6                   False             False                  True   \n",
       "7                    True             False                 False   \n",
       "8                    True             False                 False   \n",
       "9                    True             False                 False   \n",
       "\n",
       "   SEGMENTO_Parada Técnica  UBICACION_UT_CARRETERA_GAS  UBICACION_UT_DENSIDAD  \\\n",
       "0                    False                       False                   True   \n",
       "1                    False                       False                   True   \n",
       "2                    False                       False                   True   \n",
       "3                    False                       False                   True   \n",
       "4                    False                       False                   True   \n",
       "5                    False                       False                  False   \n",
       "6                    False                       False                  False   \n",
       "7                    False                       False                   True   \n",
       "8                    False                       False                   True   \n",
       "9                    False                       False                  False   \n",
       "\n",
       "   UBICACION_UT_GAS_URBANA  UBICACION_UT_TRAFICO_PEATONAL  \\\n",
       "0                    False                          False   \n",
       "1                    False                          False   \n",
       "2                    False                          False   \n",
       "3                    False                          False   \n",
       "4                    False                          False   \n",
       "5                     True                          False   \n",
       "6                    False                           True   \n",
       "7                    False                          False   \n",
       "8                    False                          False   \n",
       "9                    False                          False   \n",
       "\n",
       "   UBICACION_UT_TRAFICO_VEHICULAR  \n",
       "0                           False  \n",
       "1                           False  \n",
       "2                           False  \n",
       "3                           False  \n",
       "4                           False  \n",
       "5                           False  \n",
       "6                           False  \n",
       "7                           False  \n",
       "8                           False  \n",
       "9                            True  \n",
       "\n",
       "[10 rows x 22 columns]"
      ]
     },
     "execution_count": 38,
     "metadata": {},
     "output_type": "execute_result"
    }
   ],
   "source": [
    "# Visualizamos el dataset final\n",
    "df_train_5.head(10)"
   ]
  },
  {
   "cell_type": "code",
   "execution_count": 39,
   "id": "2be8d564",
   "metadata": {},
   "outputs": [],
   "source": [
    "# Guardamos el dataset transformado\n",
    "ruta_salida = \"../data/train_numerico.csv\"\n",
    "df_train_5.to_csv(ruta_salida, index=False)"
   ]
  }
 ],
 "metadata": {
  "kernelspec": {
   "display_name": "ciencia_datos",
   "language": "python",
   "name": "python3"
  },
  "language_info": {
   "codemirror_mode": {
    "name": "ipython",
    "version": 3
   },
   "file_extension": ".py",
   "mimetype": "text/x-python",
   "name": "python",
   "nbconvert_exporter": "python",
   "pygments_lexer": "ipython3",
   "version": "3.9.21"
  }
 },
 "nbformat": 4,
 "nbformat_minor": 5
}
