{
 "cells": [
  {
   "cell_type": "code",
   "execution_count": 9,
   "id": "dfdcfeb9",
   "metadata": {},
   "outputs": [
    {
     "name": "stdout",
     "output_type": "stream",
     "text": [
      "✅ Dataset de entrenamiento procesado y encoder guardado.\n"
     ]
    }
   ],
   "source": [
    "import numpy as np\n",
    "import pandas as pd\n",
    "import os\n",
    "from sklearn.preprocessing import OneHotEncoder\n",
    "import joblib\n",
    "\n",
    "ruta = r\"C:\\Users\\uzgre\\Codes\\Python\\Datathon\\Reto Oxxo\"\n",
    "archivo = os.path.join(ruta, \"train_w_label.csv\")\n",
    "\n",
    "# === Lectura del archivo ===\n",
    "with open(archivo, 'r', encoding='utf-8', errors='replace') as f:\n",
    "    Data = pd.read_csv(f)\n",
    "\n",
    "if 'Unnamed: 0' in Data.columns:\n",
    "    Data = Data.drop(columns=['Unnamed: 0'])\n",
    "\n",
    "Data = Data.drop(columns=['TIENDA_ID', 'DATASET'])\n",
    "\n",
    "# === MTS2VENTAS_NUM ===\n",
    "Data['MTS2VENTAS_NUM'] = Data['MTS2VENTAS_NUM'].replace(0.0, np.nan)\n",
    "media_global = Data['MTS2VENTAS_NUM'].mean()\n",
    "Data['MTS2VENTAS_NUM'] = Data.groupby('PLAZA_CVE')['MTS2VENTAS_NUM'].transform(lambda x: x.fillna(x.mean()))\n",
    "Data['MTS2VENTAS_NUM'] = Data['MTS2VENTAS_NUM'].fillna(media_global)\n",
    "\n",
    "# === NIVEL SOCIOECONÓMICO ===\n",
    "orden_nivel = {'A': 1, 'AB': 2, 'B': 3, 'BC': 4, 'C': 5, 'CD': 6, 'D': 7}\n",
    "Data['NIVELSOCIOECONOMICO_DES'] = Data['NIVELSOCIOECONOMICO_DES'].astype(str).map(orden_nivel)\n",
    "Data['NIVELSOCIOECONOMICO_DES'] = Data['NIVELSOCIOECONOMICO_DES'].fillna(4)\n",
    "\n",
    "# === Codificación categórica con OneHotEncoder ===\n",
    "cat_vars = ['ENTORNO_DES', 'SEGMENTO_MAESTRO_DESC', 'LID_UBICACION_TIENDA']\n",
    "Data['SEGMENTO_MAESTRO_DESC'] = Data['SEGMENTO_MAESTRO_DESC'].fillna(\"Missing\")\n",
    "\n",
    "encoder = OneHotEncoder(sparse_output=False, handle_unknown='ignore')\n",
    "encoded = encoder.fit_transform(Data[cat_vars])\n",
    "encoded_df = pd.DataFrame(encoded, columns=encoder.get_feature_names_out(cat_vars), index=Data.index)\n",
    "\n",
    "# Guardamos el encoder\n",
    "joblib.dump(encoder, os.path.join(ruta, 'onehot_encoder.pkl'))\n",
    "\n",
    "# Integración final\n",
    "Data = pd.concat([Data.drop(columns=cat_vars), encoded_df], axis=1)\n",
    "Data = Data.drop_duplicates()\n",
    "Data.to_csv(os.path.join(ruta, \"Dataset_Train_limpio.csv\"), index=False)\n",
    "\n",
    "print(\"✅ Dataset de entrenamiento procesado y encoder guardado.\")\n",
    "\n"
   ]
  },
  {
   "cell_type": "code",
   "execution_count": 10,
   "id": "3c426be3",
   "metadata": {},
   "outputs": [
    {
     "name": "stdout",
     "output_type": "stream",
     "text": [
      "✅ Dataset de prueba procesado usando el mismo encoder.\n"
     ]
    }
   ],
   "source": [
    "# === Lectura test ===\n",
    "ruta = r\"C:\\Users\\uzgre\\Codes\\Python\\Datathon\\Reto Oxxo\"\n",
    "archivo = os.path.join(ruta, \"test_w_label.csv\")\n",
    "\n",
    "# === Lectura del archivo ===\n",
    "with open(archivo, 'r', encoding='utf-8', errors='replace') as f:\n",
    "    Data = pd.read_csv(f)\n",
    "\n",
    "if 'Unnamed: 0' in Data.columns:\n",
    "    Data = Data.drop(columns=['Unnamed: 0'])\n",
    "\n",
    "Data = Data.drop(columns=['TIENDA_ID', 'DATASET'])\n",
    "\n",
    "\n",
    "# === MTS2VENTAS_NUM ===\n",
    "Data['MTS2VENTAS_NUM'] = Data['MTS2VENTAS_NUM'].replace(0.0, np.nan)\n",
    "media_global = Data['MTS2VENTAS_NUM'].mean()\n",
    "Data['MTS2VENTAS_NUM'] = Data.groupby('PLAZA_CVE')['MTS2VENTAS_NUM'].transform(lambda x: x.fillna(x.mean()))\n",
    "Data['MTS2VENTAS_NUM'] = Data['MTS2VENTAS_NUM'].fillna(media_global)\n",
    "\n",
    "# === NIVEL SOCIOECONÓMICO ===\n",
    "orden_nivel = {'A': 1, 'AB': 2, 'B': 3, 'BC': 4, 'C': 5, 'CD': 6, 'D': 7}\n",
    "Data['NIVELSOCIOECONOMICO_DES'] = Data['NIVELSOCIOECONOMICO_DES'].astype(str).map(orden_nivel)\n",
    "Data['NIVELSOCIOECONOMICO_DES'] = Data['NIVELSOCIOECONOMICO_DES'].fillna(4)\n",
    "\n",
    "# === Codificación categórica con encoder guardado ===\n",
    "from joblib import load\n",
    "encoder = load(os.path.join(ruta, 'onehot_encoder.pkl'))\n",
    "\n",
    "cat_vars = ['ENTORNO_DES', 'SEGMENTO_MAESTRO_DESC', 'LID_UBICACION_TIENDA']\n",
    "Data['SEGMENTO_MAESTRO_DESC'] = Data['SEGMENTO_MAESTRO_DESC'].fillna(\"Missing\")\n",
    "\n",
    "encoded = encoder.transform(Data[cat_vars])\n",
    "encoded_df = pd.DataFrame(encoded, columns=encoder.get_feature_names_out(cat_vars), index=Data.index)\n",
    "\n",
    "# Integración final\n",
    "Data = pd.concat([Data.drop(columns=cat_vars), encoded_df], axis=1)\n",
    "Data = Data.drop_duplicates()\n",
    "Data.to_csv(os.path.join(ruta, \"Dataset_Test_limpio.csv\"), index=False)\n",
    "\n",
    "print(\"✅ Dataset de prueba procesado usando el mismo encoder.\")\n"
   ]
  }
 ],
 "metadata": {
  "kernelspec": {
   "display_name": "base",
   "language": "python",
   "name": "python3"
  },
  "language_info": {
   "codemirror_mode": {
    "name": "ipython",
    "version": 3
   },
   "file_extension": ".py",
   "mimetype": "text/x-python",
   "name": "python",
   "nbconvert_exporter": "python",
   "pygments_lexer": "ipython3",
   "version": "3.12.7"
  }
 },
 "nbformat": 4,
 "nbformat_minor": 5
}
