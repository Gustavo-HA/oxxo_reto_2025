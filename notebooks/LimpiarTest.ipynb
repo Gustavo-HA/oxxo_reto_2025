{
 "cells": [
  {
   "cell_type": "code",
   "execution_count": 2,
   "id": "3e371c50",
   "metadata": {},
   "outputs": [
    {
     "name": "stdout",
     "output_type": "stream",
     "text": [
      "Tamaño del dataset limpio: (100, 22)\n",
      "✅ Dataset limpio y codificado guardado como 'Dataset_Test_limpio.csv'\n"
     ]
    }
   ],
   "source": [
    "import numpy as np\n",
    "import pandas as pd\n",
    "import os\n",
    "\n",
    "# Ruta del archivo\n",
    "ruta = r\"C:\\Users\\uzgre\\Codes\\Python\\Datathon\\Reto Oxxo\"\n",
    "archivo = os.path.join(ruta, \"test_w_label.csv\")\n",
    "\n",
    "# Lectura robusta\n",
    "with open(archivo, 'r', encoding='utf-8', errors='replace') as f:\n",
    "    Data = pd.read_csv(f)\n",
    "\n",
    "# Si hay una columna de índice agregada al guardar con index=True, la eliminamos\n",
    "if 'Unnamed: 0' in Data.columns:\n",
    "    Data = Data.drop(columns=['Unnamed: 0'])\n",
    "\n",
    "# Eliminamos columnas innecesarias\n",
    "Data = Data.drop(columns=['TIENDA_ID', 'DATASET'])\n",
    "\n",
    "# ===   Tratamos la variable Mts2 por valores faltantes ===\n",
    "\n",
    "# Primero reemplazamos los ceros por NaN (asumiendo que 0 significa dato faltante)\n",
    "Data['MTS2VENTAS_NUM'] = Data['MTS2VENTAS_NUM'].replace(0.0, np.nan)\n",
    "\n",
    "# Calculamos la media global por si hace falta al final\n",
    "media_global = Data['MTS2VENTAS_NUM'].mean()\n",
    "\n",
    "# Imputación por grupo: usamos PLAZA_CVE porque puede capturar diferencias regionales\n",
    "Data['MTS2VENTAS_NUM'] = Data.groupby('PLAZA_CVE')['MTS2VENTAS_NUM'].transform(\n",
    "    lambda x: x.fillna(x.mean())\n",
    ")\n",
    "\n",
    "# Si aún quedan NaNs (por ejemplo, si algún grupo tiene todos los valores nulos), imputamos con la media global\n",
    "Data['MTS2VENTAS_NUM'] = Data['MTS2VENTAS_NUM'].fillna(media_global)\n",
    "\n",
    "# ===   Tratamos las variables categóricas ===\n",
    "\n",
    "# -------- NIVEL SOCIOECONÓMICO (Ordinal Encoding) --------\n",
    "orden_nivel = {\n",
    "    'A': 1,\n",
    "    'AB': 2,\n",
    "    'B': 3,\n",
    "    'BC': 4,\n",
    "    'C': 5,\n",
    "    'CD': 6,\n",
    "    'D': 7\n",
    "}\n",
    "Data['NIVELSOCIOECONOMICO_DES'] = Data['NIVELSOCIOECONOMICO_DES'].astype(str).map(orden_nivel)\n",
    "\n",
    "# Checamos si hubo valores no mapeados\n",
    "n_missing = Data['NIVELSOCIOECONOMICO_DES'].isna().sum()\n",
    "if n_missing > 0:\n",
    "    print(f\"⚠️ Hay {n_missing} valores de nivel socioeconómico no mapeados. Serán imputados con nivel neutro (4 - BC).\")\n",
    "    Data['NIVELSOCIOECONOMICO_DES'] = Data['NIVELSOCIOECONOMICO_DES'].fillna(4)\n",
    "\n",
    "# -------- ENTORNO (One-Hot Encoding) --------\n",
    "Data = pd.get_dummies(Data, columns=['ENTORNO_DES'], prefix='ENTORNO')\n",
    "\n",
    "# -------- SEGMENTO MAESTRO (One-Hot Encoding + NaN -> 'Missing') --------\n",
    "Data['SEGMENTO_MAESTRO_DESC'] = Data['SEGMENTO_MAESTRO_DESC'].fillna(\"Missing\")\n",
    "Data = pd.get_dummies(Data, columns=['SEGMENTO_MAESTRO_DESC'], prefix='SEGMENTO')\n",
    "\n",
    "# -------- UBICACIÓN TIENDA (One-Hot Encoding) --------\n",
    "Data = pd.get_dummies(Data, columns=['LID_UBICACION_TIENDA'], prefix='UBICACION')\n",
    "\n",
    "# -------- Limpieza final --------\n",
    "Data = Data.drop_duplicates()\n",
    "\n",
    "# -------- Guardado --------\n",
    "archivo_salida = os.path.join(ruta, \"Dataset_Test_limpio.csv\")\n",
    "Data.to_csv(archivo_salida, index=False)\n",
    "\n",
    "print(\"Tamaño del dataset limpio:\", Data.shape)\n",
    "print(\"✅ Dataset limpio y codificado guardado como 'Dataset_Test_limpio.csv'\")"
   ]
  }
 ],
 "metadata": {
  "kernelspec": {
   "display_name": "base",
   "language": "python",
   "name": "python3"
  },
  "language_info": {
   "codemirror_mode": {
    "name": "ipython",
    "version": 3
   },
   "file_extension": ".py",
   "mimetype": "text/x-python",
   "name": "python",
   "nbconvert_exporter": "python",
   "pygments_lexer": "ipython3",
   "version": "3.12.7"
  }
 },
 "nbformat": 4,
 "nbformat_minor": 5
}
